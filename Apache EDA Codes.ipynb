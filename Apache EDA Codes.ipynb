{
 "cells": [
  {
   "cell_type": "code",
   "execution_count": 22,
   "id": "379e901c",
   "metadata": {},
   "outputs": [],
   "source": [
    "#importing data processing libraries\n",
    "import pandas as pd\n",
    "import numpy as np\n",
    "#importing data visualization libraries\n",
    "import seaborn as sns\n",
    "import matplotlib.pyplot as plt\n",
    "# datetime module\n",
    "import datetime\n",
    "# to ignore future warnings\n",
    "import warnings\n",
    "warnings.filterwarnings('ignore')\n",
    "import os"
   ]
  },
  {
   "cell_type": "code",
   "execution_count": 23,
   "id": "5259ec8b",
   "metadata": {},
   "outputs": [],
   "source": [
    "#load and read file\n",
    "player_hall_of_fame= pd.read_csv(\"basketball_master.csv\")"
   ]
  },
  {
   "cell_type": "code",
   "execution_count": 24,
   "id": "b3c3002e",
   "metadata": {},
   "outputs": [
    {
     "data": {
      "text/html": [
       "<div>\n",
       "<style scoped>\n",
       "    .dataframe tbody tr th:only-of-type {\n",
       "        vertical-align: middle;\n",
       "    }\n",
       "\n",
       "    .dataframe tbody tr th {\n",
       "        vertical-align: top;\n",
       "    }\n",
       "\n",
       "    .dataframe thead th {\n",
       "        text-align: right;\n",
       "    }\n",
       "</style>\n",
       "<table border=\"1\" class=\"dataframe\">\n",
       "  <thead>\n",
       "    <tr style=\"text-align: right;\">\n",
       "      <th></th>\n",
       "      <th>bioID</th>\n",
       "      <th>useFirst</th>\n",
       "      <th>firstName</th>\n",
       "      <th>middleName</th>\n",
       "      <th>lastName</th>\n",
       "      <th>nameGiven</th>\n",
       "      <th>fullGivenName</th>\n",
       "      <th>nameSuffix</th>\n",
       "      <th>nameNick</th>\n",
       "      <th>pos</th>\n",
       "      <th>...</th>\n",
       "      <th>birthDate</th>\n",
       "      <th>birthCity</th>\n",
       "      <th>birthState</th>\n",
       "      <th>birthCountry</th>\n",
       "      <th>highSchool</th>\n",
       "      <th>hsCity</th>\n",
       "      <th>hsState</th>\n",
       "      <th>hsCountry</th>\n",
       "      <th>deathDate</th>\n",
       "      <th>race</th>\n",
       "    </tr>\n",
       "  </thead>\n",
       "  <tbody>\n",
       "    <tr>\n",
       "      <th>0</th>\n",
       "      <td>abdelal01</td>\n",
       "      <td>Alaa</td>\n",
       "      <td>Alaa</td>\n",
       "      <td>NaN</td>\n",
       "      <td>Abdelnaby</td>\n",
       "      <td>NaN</td>\n",
       "      <td>NaN</td>\n",
       "      <td>NaN</td>\n",
       "      <td>NaN</td>\n",
       "      <td>F-C</td>\n",
       "      <td>...</td>\n",
       "      <td>1968-06-24</td>\n",
       "      <td>Cairo</td>\n",
       "      <td>NaN</td>\n",
       "      <td>EGY</td>\n",
       "      <td>Bloomfield Senior</td>\n",
       "      <td>Bloomfield</td>\n",
       "      <td>NJ</td>\n",
       "      <td>USA</td>\n",
       "      <td>0000-00-00</td>\n",
       "      <td>B</td>\n",
       "    </tr>\n",
       "    <tr>\n",
       "      <th>1</th>\n",
       "      <td>abdulka01</td>\n",
       "      <td>Kareem</td>\n",
       "      <td>Kareem</td>\n",
       "      <td>NaN</td>\n",
       "      <td>Abdul-Jabbar</td>\n",
       "      <td>NaN</td>\n",
       "      <td>Ferdinand Lewis Alcindor, Jr.</td>\n",
       "      <td>NaN</td>\n",
       "      <td>Lew, Cap</td>\n",
       "      <td>C</td>\n",
       "      <td>...</td>\n",
       "      <td>1947-04-16</td>\n",
       "      <td>New York</td>\n",
       "      <td>NY</td>\n",
       "      <td>USA</td>\n",
       "      <td>Power Memorial</td>\n",
       "      <td>New York</td>\n",
       "      <td>NY</td>\n",
       "      <td>USA</td>\n",
       "      <td>0000-00-00</td>\n",
       "      <td>B</td>\n",
       "    </tr>\n",
       "    <tr>\n",
       "      <th>2</th>\n",
       "      <td>abdulma01</td>\n",
       "      <td>Mahdi</td>\n",
       "      <td>Mahdi</td>\n",
       "      <td>NaN</td>\n",
       "      <td>Abdul-Rahman</td>\n",
       "      <td>NaN</td>\n",
       "      <td>Walter Raphael Hazzard, Jr.</td>\n",
       "      <td>NaN</td>\n",
       "      <td>Walt</td>\n",
       "      <td>G</td>\n",
       "      <td>...</td>\n",
       "      <td>1942-04-15</td>\n",
       "      <td>Wilmington</td>\n",
       "      <td>DE</td>\n",
       "      <td>USA</td>\n",
       "      <td>Overbrook / Moton</td>\n",
       "      <td>Philadelphia / Easton</td>\n",
       "      <td>PA / MD</td>\n",
       "      <td>USA</td>\n",
       "      <td>2011-11-18</td>\n",
       "      <td>B</td>\n",
       "    </tr>\n",
       "    <tr>\n",
       "      <th>3</th>\n",
       "      <td>abdulma02</td>\n",
       "      <td>Mahmoud</td>\n",
       "      <td>Mahmoud</td>\n",
       "      <td>NaN</td>\n",
       "      <td>Abdul-Rauf</td>\n",
       "      <td>NaN</td>\n",
       "      <td>Chris Wayne Jackson</td>\n",
       "      <td>NaN</td>\n",
       "      <td>NaN</td>\n",
       "      <td>G</td>\n",
       "      <td>...</td>\n",
       "      <td>1969-03-09</td>\n",
       "      <td>Gulfport</td>\n",
       "      <td>MS</td>\n",
       "      <td>USA</td>\n",
       "      <td>Gulfport</td>\n",
       "      <td>Gulfport</td>\n",
       "      <td>MS</td>\n",
       "      <td>USA</td>\n",
       "      <td>0000-00-00</td>\n",
       "      <td>B</td>\n",
       "    </tr>\n",
       "    <tr>\n",
       "      <th>4</th>\n",
       "      <td>abdulta01</td>\n",
       "      <td>Tariq</td>\n",
       "      <td>Tariq</td>\n",
       "      <td>NaN</td>\n",
       "      <td>Abdul-Wahad</td>\n",
       "      <td>NaN</td>\n",
       "      <td>Olivier Michael Saint-Jean</td>\n",
       "      <td>NaN</td>\n",
       "      <td>NaN</td>\n",
       "      <td>G-F</td>\n",
       "      <td>...</td>\n",
       "      <td>1974-11-03</td>\n",
       "      <td>Maisons Alfort</td>\n",
       "      <td>NaN</td>\n",
       "      <td>FRA</td>\n",
       "      <td>Lycee Aristide Briand</td>\n",
       "      <td>Evreux</td>\n",
       "      <td>NaN</td>\n",
       "      <td>FRA</td>\n",
       "      <td>0000-00-00</td>\n",
       "      <td>B</td>\n",
       "    </tr>\n",
       "  </tbody>\n",
       "</table>\n",
       "<p>5 rows × 26 columns</p>\n",
       "</div>"
      ],
      "text/plain": [
       "       bioID useFirst firstName middleName      lastName nameGiven  \\\n",
       "0  abdelal01     Alaa      Alaa        NaN     Abdelnaby       NaN   \n",
       "1  abdulka01   Kareem    Kareem        NaN  Abdul-Jabbar       NaN   \n",
       "2  abdulma01    Mahdi     Mahdi        NaN  Abdul-Rahman       NaN   \n",
       "3  abdulma02  Mahmoud   Mahmoud        NaN    Abdul-Rauf       NaN   \n",
       "4  abdulta01    Tariq     Tariq        NaN   Abdul-Wahad       NaN   \n",
       "\n",
       "                   fullGivenName nameSuffix  nameNick  pos  ...   birthDate  \\\n",
       "0                            NaN        NaN       NaN  F-C  ...  1968-06-24   \n",
       "1  Ferdinand Lewis Alcindor, Jr.        NaN  Lew, Cap    C  ...  1947-04-16   \n",
       "2    Walter Raphael Hazzard, Jr.        NaN      Walt    G  ...  1942-04-15   \n",
       "3            Chris Wayne Jackson        NaN       NaN    G  ...  1969-03-09   \n",
       "4     Olivier Michael Saint-Jean        NaN       NaN  G-F  ...  1974-11-03   \n",
       "\n",
       "        birthCity  birthState  birthCountry             highSchool  \\\n",
       "0           Cairo         NaN           EGY      Bloomfield Senior   \n",
       "1        New York          NY           USA         Power Memorial   \n",
       "2      Wilmington          DE           USA      Overbrook / Moton   \n",
       "3        Gulfport          MS           USA               Gulfport   \n",
       "4  Maisons Alfort         NaN           FRA  Lycee Aristide Briand   \n",
       "\n",
       "                  hsCity  hsState hsCountry   deathDate race  \n",
       "0             Bloomfield       NJ       USA  0000-00-00    B  \n",
       "1               New York       NY       USA  0000-00-00    B  \n",
       "2  Philadelphia / Easton  PA / MD       USA  2011-11-18    B  \n",
       "3               Gulfport       MS       USA  0000-00-00    B  \n",
       "4                 Evreux      NaN       FRA  0000-00-00    B  \n",
       "\n",
       "[5 rows x 26 columns]"
      ]
     },
     "execution_count": 24,
     "metadata": {},
     "output_type": "execute_result"
    }
   ],
   "source": [
    "player_hall_of_fame.head()"
   ]
  },
  {
   "cell_type": "markdown",
   "id": "7fcfc2e1",
   "metadata": {},
   "source": [
    "**Exploratory Data Analysis**"
   ]
  },
  {
   "cell_type": "code",
   "execution_count": 25,
   "id": "d30b6c37",
   "metadata": {},
   "outputs": [
    {
     "data": {
      "text/plain": [
       "(5061, 26)"
      ]
     },
     "execution_count": 25,
     "metadata": {},
     "output_type": "execute_result"
    }
   ],
   "source": [
    "#It gives us the no of rows and columns\n",
    "player_hall_of_fame.shape"
   ]
  },
  {
   "cell_type": "code",
   "execution_count": 26,
   "id": "d897397e",
   "metadata": {},
   "outputs": [
    {
     "data": {
      "text/plain": [
       "bioID            False\n",
       "useFirst          True\n",
       "firstName         True\n",
       "middleName        True\n",
       "lastName         False\n",
       "nameGiven         True\n",
       "fullGivenName     True\n",
       "nameSuffix        True\n",
       "nameNick          True\n",
       "pos               True\n",
       "firstseason       True\n",
       "lastseason        True\n",
       "height            True\n",
       "weight            True\n",
       "college           True\n",
       "collegeOther      True\n",
       "birthDate         True\n",
       "birthCity         True\n",
       "birthState        True\n",
       "birthCountry      True\n",
       "highSchool        True\n",
       "hsCity            True\n",
       "hsState           True\n",
       "hsCountry         True\n",
       "deathDate        False\n",
       "race              True\n",
       "dtype: bool"
      ]
     },
     "execution_count": 26,
     "metadata": {},
     "output_type": "execute_result"
    }
   ],
   "source": [
    "player_hall_of_fame.isnull().any()"
   ]
  },
  {
   "cell_type": "code",
   "execution_count": 27,
   "id": "bd0f2d34",
   "metadata": {},
   "outputs": [
    {
     "data": {
      "text/plain": [
       "bioID             object\n",
       "useFirst          object\n",
       "firstName         object\n",
       "middleName        object\n",
       "lastName          object\n",
       "nameGiven         object\n",
       "fullGivenName     object\n",
       "nameSuffix        object\n",
       "nameNick          object\n",
       "pos               object\n",
       "firstseason      float64\n",
       "lastseason       float64\n",
       "height           float64\n",
       "weight           float64\n",
       "college           object\n",
       "collegeOther      object\n",
       "birthDate         object\n",
       "birthCity         object\n",
       "birthState        object\n",
       "birthCountry      object\n",
       "highSchool        object\n",
       "hsCity            object\n",
       "hsState           object\n",
       "hsCountry         object\n",
       "deathDate         object\n",
       "race              object\n",
       "dtype: object"
      ]
     },
     "execution_count": 27,
     "metadata": {},
     "output_type": "execute_result"
    }
   ],
   "source": [
    "player_hall_of_fame.dtypes"
   ]
  },
  {
   "cell_type": "code",
   "execution_count": 29,
   "id": "95be209f",
   "metadata": {},
   "outputs": [
    {
     "name": "stdout",
     "output_type": "stream",
     "text": [
      "1 - bioID\n",
      "2 - useFirst\n",
      "3 - firstName\n",
      "4 - middleName\n",
      "5 - lastName\n",
      "6 - nameGiven\n",
      "7 - fullGivenName\n",
      "8 - nameSuffix\n",
      "9 - nameNick\n",
      "10 - pos\n",
      "11 - firstseason\n",
      "12 - lastseason\n",
      "13 - height\n",
      "14 - weight\n",
      "15 - college\n",
      "16 - collegeOther\n",
      "17 - birthDate\n",
      "18 - birthCity\n",
      "19 - birthState\n",
      "20 - birthCountry\n",
      "21 - highSchool\n",
      "22 - hsCity\n",
      "23 - hsState\n",
      "24 - hsCountry\n",
      "25 - deathDate\n",
      "26 - race\n"
     ]
    }
   ],
   "source": [
    "for i, col in enumerate(player_hall_of_fame.columns):\n",
    "    print((i+1), '-',col)"
   ]
  },
  {
   "cell_type": "code",
   "execution_count": 31,
   "id": "ba3ed977",
   "metadata": {},
   "outputs": [
    {
     "data": {
      "text/html": [
       "<div>\n",
       "<style scoped>\n",
       "    .dataframe tbody tr th:only-of-type {\n",
       "        vertical-align: middle;\n",
       "    }\n",
       "\n",
       "    .dataframe tbody tr th {\n",
       "        vertical-align: top;\n",
       "    }\n",
       "\n",
       "    .dataframe thead th {\n",
       "        text-align: right;\n",
       "    }\n",
       "</style>\n",
       "<table border=\"1\" class=\"dataframe\">\n",
       "  <thead>\n",
       "    <tr style=\"text-align: right;\">\n",
       "      <th></th>\n",
       "      <th>firstseason</th>\n",
       "      <th>lastseason</th>\n",
       "      <th>height</th>\n",
       "      <th>weight</th>\n",
       "    </tr>\n",
       "  </thead>\n",
       "  <tbody>\n",
       "    <tr>\n",
       "      <th>count</th>\n",
       "      <td>5046.000000</td>\n",
       "      <td>5046.000000</td>\n",
       "      <td>5048.000000</td>\n",
       "      <td>5047.000000</td>\n",
       "    </tr>\n",
       "    <tr>\n",
       "      <th>mean</th>\n",
       "      <td>0.386643</td>\n",
       "      <td>0.386643</td>\n",
       "      <td>74.269810</td>\n",
       "      <td>194.565683</td>\n",
       "    </tr>\n",
       "    <tr>\n",
       "      <th>std</th>\n",
       "      <td>27.465256</td>\n",
       "      <td>27.465256</td>\n",
       "      <td>15.272533</td>\n",
       "      <td>49.357786</td>\n",
       "    </tr>\n",
       "    <tr>\n",
       "      <th>min</th>\n",
       "      <td>0.000000</td>\n",
       "      <td>0.000000</td>\n",
       "      <td>0.000000</td>\n",
       "      <td>0.000000</td>\n",
       "    </tr>\n",
       "    <tr>\n",
       "      <th>25%</th>\n",
       "      <td>0.000000</td>\n",
       "      <td>0.000000</td>\n",
       "      <td>74.000000</td>\n",
       "      <td>181.000000</td>\n",
       "    </tr>\n",
       "    <tr>\n",
       "      <th>50%</th>\n",
       "      <td>0.000000</td>\n",
       "      <td>0.000000</td>\n",
       "      <td>77.000000</td>\n",
       "      <td>200.000000</td>\n",
       "    </tr>\n",
       "    <tr>\n",
       "      <th>75%</th>\n",
       "      <td>0.000000</td>\n",
       "      <td>0.000000</td>\n",
       "      <td>80.000000</td>\n",
       "      <td>220.000000</td>\n",
       "    </tr>\n",
       "    <tr>\n",
       "      <th>max</th>\n",
       "      <td>1951.000000</td>\n",
       "      <td>1951.000000</td>\n",
       "      <td>91.000000</td>\n",
       "      <td>330.000000</td>\n",
       "    </tr>\n",
       "  </tbody>\n",
       "</table>\n",
       "</div>"
      ],
      "text/plain": [
       "       firstseason   lastseason       height       weight\n",
       "count  5046.000000  5046.000000  5048.000000  5047.000000\n",
       "mean      0.386643     0.386643    74.269810   194.565683\n",
       "std      27.465256    27.465256    15.272533    49.357786\n",
       "min       0.000000     0.000000     0.000000     0.000000\n",
       "25%       0.000000     0.000000    74.000000   181.000000\n",
       "50%       0.000000     0.000000    77.000000   200.000000\n",
       "75%       0.000000     0.000000    80.000000   220.000000\n",
       "max    1951.000000  1951.000000    91.000000   330.000000"
      ]
     },
     "execution_count": 31,
     "metadata": {},
     "output_type": "execute_result"
    }
   ],
   "source": [
    "player_hall_of_fame.describe()"
   ]
  },
  {
   "cell_type": "code",
   "execution_count": 32,
   "id": "433890ab",
   "metadata": {},
   "outputs": [
    {
     "data": {
      "text/plain": [
       "array(['USA', 'FRA', 'NGR', nan, 'BRA', 'YUG', 'LAT', 'AUS', 'BAH',\n",
       "       'USA/CAN', 'HOL', 'PAN', 'BUL', 'CUB', 'VEN', 'LTU', 'JAM/USA',\n",
       "       'CAN/USA', 'DMC', 'HAI', 'RUS', 'CRO', 'CAN', 'NZL', 'SRB', 'SLV',\n",
       "       'FIN', 'ZAI', 'EST', 'USA / SEN', 'GER', 'ARG', 'TUR', 'ENG',\n",
       "       'TCH', 'UKR', 'JAM', 'GRE', 'KOR', 'SEN', 'JPN', 'CAN /USA', 'POL',\n",
       "       'GEO', 'YUG/USA', 'ISV', 'DOM/USA', 'USA / PUR', 'GAB', 'ESP',\n",
       "       'PUR', 'USa'], dtype=object)"
      ]
     },
     "execution_count": 32,
     "metadata": {},
     "output_type": "execute_result"
    }
   ],
   "source": [
    "player_hall_of_fame['hsCountry'].unique()"
   ]
  },
  {
   "cell_type": "code",
   "execution_count": 34,
   "id": "a42ee787",
   "metadata": {},
   "outputs": [
    {
     "data": {
      "text/plain": [
       "array(['EGY', 'USA', 'FRA', nan, 'NGR', 'LTU', 'BRA', 'SCO', 'TUR', 'ENG',\n",
       "       'YUG', 'GER', 'ITA', 'CHN', 'RUS', 'ISV', 'LAT', 'PAN', 'AUS',\n",
       "       'SUD', 'CMR', 'SLV', 'ESP', 'NOR', 'BAH', 'HAI', 'HUN', 'ARG',\n",
       "       'HOL', 'JAM', 'DOM', 'GRE', 'VIN', 'CRO', 'BUL', 'CAN', 'PCZ',\n",
       "       'CUB', 'BEL', 'TRI', 'SWE', 'LUX', 'DMC', 'SUI', 'UKR', 'POL',\n",
       "       'MEX', 'BOS', 'NZL', 'GUY', 'CON', 'SRB', 'FIN', 'ROM', 'ZAI',\n",
       "       'EST', 'SEN', 'MON', 'TCH', 'MLI', 'LIB', 'KOR', 'SLO', 'GEO',\n",
       "       'JPN', 'URS', 'IRL', 'MOR', 'ISL', 'PUR', 'SAF', 'TAI', 'ISR',\n",
       "       'IRI', 'DEN', 'TAN', 'URU', 'COD', 'CGO', 'GAB', 'VEN'],\n",
       "      dtype=object)"
      ]
     },
     "execution_count": 34,
     "metadata": {},
     "output_type": "execute_result"
    }
   ],
   "source": [
    "player_hall_of_fame['birthCountry'].unique()"
   ]
  },
  {
   "cell_type": "code",
   "execution_count": 35,
   "id": "6f7200eb",
   "metadata": {},
   "outputs": [
    {
     "data": {
      "text/plain": [
       "61"
      ]
     },
     "execution_count": 35,
     "metadata": {},
     "output_type": "execute_result"
    }
   ],
   "source": [
    "number=len(player_hall_of_fame['birthState'].unique())\n",
    "number"
   ]
  },
  {
   "cell_type": "code",
   "execution_count": 36,
   "id": "fe408d07",
   "metadata": {},
   "outputs": [
    {
     "data": {
      "text/plain": [
       "5061"
      ]
     },
     "execution_count": 36,
     "metadata": {},
     "output_type": "execute_result"
    }
   ],
   "source": [
    "number=len(player_hall_of_fame['bioID'].unique())\n",
    "number"
   ]
  },
  {
   "cell_type": "code",
   "execution_count": 37,
   "id": "3b19c39e",
   "metadata": {},
   "outputs": [
    {
     "name": "stdout",
     "output_type": "stream",
     "text": [
      "<class 'pandas.core.frame.DataFrame'>\n",
      "RangeIndex: 5061 entries, 0 to 5060\n",
      "Data columns (total 26 columns):\n",
      " #   Column         Non-Null Count  Dtype  \n",
      "---  ------         --------------  -----  \n",
      " 0   bioID          5061 non-null   object \n",
      " 1   useFirst       4230 non-null   object \n",
      " 2   firstName      5037 non-null   object \n",
      " 3   middleName     3245 non-null   object \n",
      " 4   lastName       5061 non-null   object \n",
      " 5   nameGiven      9 non-null      object \n",
      " 6   fullGivenName  26 non-null     object \n",
      " 7   nameSuffix     323 non-null    object \n",
      " 8   nameNick       2707 non-null   object \n",
      " 9   pos            4879 non-null   object \n",
      " 10  firstseason    5046 non-null   float64\n",
      " 11  lastseason     5046 non-null   float64\n",
      " 12  height         5048 non-null   float64\n",
      " 13  weight         5047 non-null   float64\n",
      " 14  college        4883 non-null   object \n",
      " 15  collegeOther   853 non-null    object \n",
      " 16  birthDate      5050 non-null   object \n",
      " 17  birthCity      3887 non-null   object \n",
      " 18  birthState     3607 non-null   object \n",
      " 19  birthCountry   3901 non-null   object \n",
      " 20  highSchool     4288 non-null   object \n",
      " 21  hsCity         4296 non-null   object \n",
      " 22  hsState        4227 non-null   object \n",
      " 23  hsCountry      4296 non-null   object \n",
      " 24  deathDate      5061 non-null   object \n",
      " 25  race           4902 non-null   object \n",
      "dtypes: float64(4), object(22)\n",
      "memory usage: 1.0+ MB\n"
     ]
    }
   ],
   "source": [
    "player_hall_of_fame.info()"
   ]
  },
  {
   "cell_type": "markdown",
   "id": "3fd92f5f",
   "metadata": {},
   "source": [
    "**Data Visualization**"
   ]
  },
  {
   "cell_type": "code",
   "execution_count": 40,
   "id": "bef49bfa",
   "metadata": {},
   "outputs": [
    {
     "data": {
      "text/html": [
       "<div>\n",
       "<style scoped>\n",
       "    .dataframe tbody tr th:only-of-type {\n",
       "        vertical-align: middle;\n",
       "    }\n",
       "\n",
       "    .dataframe tbody tr th {\n",
       "        vertical-align: top;\n",
       "    }\n",
       "\n",
       "    .dataframe thead th {\n",
       "        text-align: right;\n",
       "    }\n",
       "</style>\n",
       "<table border=\"1\" class=\"dataframe\">\n",
       "  <thead>\n",
       "    <tr style=\"text-align: right;\">\n",
       "      <th></th>\n",
       "      <th>firstseason</th>\n",
       "      <th>lastseason</th>\n",
       "      <th>height</th>\n",
       "      <th>weight</th>\n",
       "    </tr>\n",
       "  </thead>\n",
       "  <tbody>\n",
       "    <tr>\n",
       "      <th>firstseason</th>\n",
       "      <td>1.000000</td>\n",
       "      <td>1.000000</td>\n",
       "      <td>-0.001171</td>\n",
       "      <td>-0.008434</td>\n",
       "    </tr>\n",
       "    <tr>\n",
       "      <th>lastseason</th>\n",
       "      <td>1.000000</td>\n",
       "      <td>1.000000</td>\n",
       "      <td>-0.001171</td>\n",
       "      <td>-0.008434</td>\n",
       "    </tr>\n",
       "    <tr>\n",
       "      <th>height</th>\n",
       "      <td>-0.001171</td>\n",
       "      <td>-0.001171</td>\n",
       "      <td>1.000000</td>\n",
       "      <td>0.870231</td>\n",
       "    </tr>\n",
       "    <tr>\n",
       "      <th>weight</th>\n",
       "      <td>-0.008434</td>\n",
       "      <td>-0.008434</td>\n",
       "      <td>0.870231</td>\n",
       "      <td>1.000000</td>\n",
       "    </tr>\n",
       "  </tbody>\n",
       "</table>\n",
       "</div>"
      ],
      "text/plain": [
       "             firstseason  lastseason    height    weight\n",
       "firstseason     1.000000    1.000000 -0.001171 -0.008434\n",
       "lastseason      1.000000    1.000000 -0.001171 -0.008434\n",
       "height         -0.001171   -0.001171  1.000000  0.870231\n",
       "weight         -0.008434   -0.008434  0.870231  1.000000"
      ]
     },
     "execution_count": 40,
     "metadata": {},
     "output_type": "execute_result"
    }
   ],
   "source": [
    "player_hall_of_fame.corr()"
   ]
  },
  {
   "cell_type": "code",
   "execution_count": 43,
   "id": "7ffb8f09",
   "metadata": {},
   "outputs": [
    {
     "data": {
      "image/png": "[encoded data removed]",
      "text/plain": [
       "<Figure size 432x288 with 2 Axes>"
      ]
     },
     "metadata": {
      "needs_background": "light"
     },
     "output_type": "display_data"
    }
   ],
   "source": [
    "sns.heatmap(player_hall_of_fame.corr(),annot=True)\n",
    "plt.show()"
   ]
  },
  {
   "cell_type": "code",
   "execution_count": 44,
   "id": "f7dd40dc",
   "metadata": {},
   "outputs": [
    {
     "data": {
      "image/png": "[encoded data removed]",
      "text/plain": [
       "<Figure size 432x288 with 1 Axes>"
      ]
     },
     "metadata": {
      "needs_background": "light"
     },
     "output_type": "display_data"
    }
   ],
   "source": [
    "sns.barplot(x=player_hall_of_fame['birthCountry'].value_counts().index[:20],y=player_hall_of_fame['hsState'].value_counts().values[:20])\n",
    "plt.xticks(rotation=90)\n",
    "plt.title('NUMBER OF BIRTH COUNTRIES & HIGH SCHOOL STATES')\n",
    "plt.show()"
   ]
  },
  {
   "cell_type": "code",
   "execution_count": 45,
   "id": "e47eeb6e",
   "metadata": {},
   "outputs": [],
   "source": [
    "Birth_State=df['birthState'].value_counts()\n",
    "names=Birth_State.index\n",
    "values=Birth_State.values"
   ]
  },
  {
   "cell_type": "code",
   "execution_count": 46,
   "id": "1a794639",
   "metadata": {},
   "outputs": [
    {
     "data": {
      "image/png": "[encoded data removed]",
      "text/plain": [
       "<Figure size 720x720 with 1 Axes>"
      ]
     },
     "metadata": {
      "needs_background": "light"
     },
     "output_type": "display_data"
    }
   ],
   "source": [
    "plt.figure(figsize=(10,10))\n",
    "sns.barplot(x=names[:10],y=values[:10])\n",
    "plt.xticks(rotation=90)\n",
    "plt.ylabel('Values')\n",
    "plt.xlabel('Birth States')\n",
    "plt.title('Number of Birth States')\n",
    "plt.show()"
   ]
  },
  {
   "cell_type": "code",
   "execution_count": null,
   "id": "8c3be8ab",
   "metadata": {},
   "outputs": [],
   "source": []
  }
 ],
 "metadata": {
  "kernelspec": {
   "display_name": "Python 3 (ipykernel)",
   "language": "python",
   "name": "python3"
  },
  "language_info": {
   "codemirror_mode": {
    "name": "ipython",
    "version": 3
   },
   "file_extension": ".py",
   "mimetype": "text/x-python",
   "name": "python",
   "nbconvert_exporter": "python",
   "pygments_lexer": "ipython3",
   "version": "3.9.7"
  }
 },
 "nbformat": 4,
 "nbformat_minor": 5
}
