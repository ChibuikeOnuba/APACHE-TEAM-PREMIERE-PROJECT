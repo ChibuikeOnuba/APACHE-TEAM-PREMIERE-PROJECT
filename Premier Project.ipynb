{
 "cells": [
  {
   "cell_type": "code",
   "execution_count": null,
   "id": "d2df92f7",
   "metadata": {},
   "outputs": [],
   "source": [
    "import os\n",
    "import pandas as pd\n",
    "import numpy as np\n",
    "import matplotlib.pyplot as plt\n",
    "import seaborn as sns"
   ]
  },
  {
   "cell_type": "code",
   "execution_count": null,
   "id": "c343a71f",
   "metadata": {},
   "outputs": [],
   "source": [
    "list_dir = os.listdir('./Basketball Datasets')\n",
    "list_dir"
   ]
  },
  {
   "cell_type": "markdown",
   "id": "2e7bf8e1",
   "metadata": {},
   "source": [
    "### From the list of datasets given above, it was found that there is no dataset for the player stats per season, which means we can predict why a player got into the hall of fame, so this data analysis was done on the coachs that got into the hall of fame instead."
   ]
  },
  {
   "cell_type": "code",
   "execution_count": null,
   "id": "34fb5f75",
   "metadata": {},
   "outputs": [],
   "source": [
    "#assessing the hall of fame dataset\n",
    "df_hof = pd.read_csv('./Basketball Datasets/basketball_hof.csv')\n",
    "df_hof.shape"
   ]
  },
  {
   "cell_type": "code",
   "execution_count": null,
   "id": "d52670dc",
   "metadata": {},
   "outputs": [],
   "source": [
    "df_hof.head()"
   ]
  },
  {
   "cell_type": "code",
   "execution_count": null,
   "id": "f7390c57",
   "metadata": {},
   "outputs": [],
   "source": [
    "df_hof.info()"
   ]
  },
  {
   "cell_type": "code",
   "execution_count": null,
   "id": "f6e14982",
   "metadata": {},
   "outputs": [],
   "source": [
    "#dropping the row that has no hofID value because we are considering data only for US\n",
    "df_hof.dropna(inplace=True)\n"
   ]
  },
  {
   "cell_type": "code",
   "execution_count": null,
   "id": "ffbba56f",
   "metadata": {},
   "outputs": [],
   "source": [
    "#creating a dataframe for coach and team hall of fame\n",
    "df_hof_coach = df_hof.query('category == \"Coach\"')\n",
    "df_hof_team = df_hof.query('category == \"Team\"')"
   ]
  },
  {
   "cell_type": "markdown",
   "id": "d603cc29",
   "metadata": {},
   "source": [
    "### Analysis of hall of fame Coaches from US"
   ]
  },
  {
   "cell_type": "code",
   "execution_count": null,
   "id": "2ec71af3",
   "metadata": {},
   "outputs": [],
   "source": [
    "df_master = df_coaches = pd.read_csv('./Basketball Datasets/basketball_master.csv')\n",
    "df_master.rename(columns={'bioID':'hofID'}, inplace=True)\n",
    "df_master.head()"
   ]
  },
  {
   "cell_type": "code",
   "execution_count": null,
   "id": "c8be6e08",
   "metadata": {},
   "outputs": [],
   "source": [
    "df_2 = pd.merge(df_hof_coach, df_master, on=['hofID']).groupby('race').count()\n",
    "\n",
    "label = df_2.index\n",
    "value = df_2.year.values\n",
    "plt.bar(label, value);\n",
    "plt.ylabel('Amount of Coaches')\n",
    "plt.xlabel('Race')"
   ]
  },
  {
   "cell_type": "markdown",
   "id": "2c55ebaa",
   "metadata": {},
   "source": [
    "#### it is seen that a little amount of coaches that made it to the hall of fame are blacks"
   ]
  },
  {
   "cell_type": "code",
   "execution_count": null,
   "id": "d09d1796",
   "metadata": {},
   "outputs": [],
   "source": [
    "df_coaches = pd.read_csv('./Basketball Datasets/basketball_coaches.csv')\n",
    "df_coaches.rename(columns={'coachID':'hofID'}, inplace=True)\n",
    "df_coaches.head()"
   ]
  },
  {
   "cell_type": "code",
   "execution_count": null,
   "id": "b05f6998",
   "metadata": {},
   "outputs": [],
   "source": [
    "#creating a dataframe for the statistics of coaches in hall of fame\n",
    "df_hof_coach_stat = pd.merge(df_hof_coach, df_coaches, on=['hofID'])\n",
    "df_hof_coach_stat.rename(columns={'year_x':'hof_year','year_y':'year', 'name':'coach_name'}, inplace=True)\n",
    "df_hof_coach_stat.head()"
   ]
  },
  {
   "cell_type": "code",
   "execution_count": null,
   "id": "4a716494",
   "metadata": {},
   "outputs": [],
   "source": [
    "#extracting the index of the observation of coach statistics before the hall of fame year\n",
    "index_list = []\n",
    "for lab, row in df_hof_coach_stat.iterrows():\n",
    "    if (row['year'] <= row[\"hof_year\"]):\n",
    "        index_list.append(lab)"
   ]
  },
  {
   "cell_type": "code",
   "execution_count": null,
   "id": "ba79f4f5",
   "metadata": {},
   "outputs": [],
   "source": [
    "df_hof_coach_stat = df_hof_coach_stat.loc[index_list]\n",
    "df_hof_coach_stat.head()"
   ]
  },
  {
   "cell_type": "markdown",
   "id": "41c8e2fb",
   "metadata": {},
   "source": [
    "#### This dataframe shows the stats that got the respective coaches into the hall of fame"
   ]
  },
  {
   "cell_type": "code",
   "execution_count": null,
   "id": "618a1dfb",
   "metadata": {},
   "outputs": [],
   "source": [
    "df_team = pd.read_csv('./Basketball Datasets/basketball_teams.csv')\n",
    "df_team.head()"
   ]
  },
  {
   "cell_type": "code",
   "execution_count": null,
   "id": "d102f51d",
   "metadata": {},
   "outputs": [],
   "source": [
    "# derive a dataframe that can be used for model training to predict coaches that enters hall of fame\n",
    "df = pd.merge(df_hof_coach_stat, df_team, on=['year','tmID','lgID'])\n"
   ]
  },
  {
   "cell_type": "code",
   "execution_count": null,
   "id": "355dd2fb",
   "metadata": {},
   "outputs": [],
   "source": [
    "df.head()"
   ]
  },
  {
   "cell_type": "markdown",
   "id": "7b9528ce",
   "metadata": {},
   "source": [
    "#### This dataframe shows the statistics of the team the coaches coached before entering the hall of fame"
   ]
  }
 ],
 "metadata": {
  "kernelspec": {
   "display_name": "Python 3 (ipykernel)",
   "language": "python",
   "name": "python3"
  },
  "language_info": {
   "codemirror_mode": {
    "name": "ipython",
    "version": 3
   },
   "file_extension": ".py",
   "mimetype": "text/x-python",
   "name": "python",
   "nbconvert_exporter": "python",
   "pygments_lexer": "ipython3",
   "version": "3.9.7"
  }
 },
 "nbformat": 4,
 "nbformat_minor": 5
}
