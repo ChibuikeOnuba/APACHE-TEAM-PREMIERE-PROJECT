{
 "cells": [
  {
   "cell_type": "code",
   "execution_count": 32,
   "id": "1d20f7cb",
   "metadata": {},
   "outputs": [
    {
     "data": {
      "text/html": [
       "<div>\n",
       "<style scoped>\n",
       "    .dataframe tbody tr th:only-of-type {\n",
       "        vertical-align: middle;\n",
       "    }\n",
       "\n",
       "    .dataframe tbody tr th {\n",
       "        vertical-align: top;\n",
       "    }\n",
       "\n",
       "    .dataframe thead th {\n",
       "        text-align: right;\n",
       "    }\n",
       "</style>\n",
       "<table border=\"1\" class=\"dataframe\">\n",
       "  <thead>\n",
       "    <tr style=\"text-align: right;\">\n",
       "      <th></th>\n",
       "      <th>bioID</th>\n",
       "      <th>useFirst</th>\n",
       "      <th>firstName</th>\n",
       "      <th>middleName</th>\n",
       "      <th>lastName</th>\n",
       "      <th>nameGiven</th>\n",
       "      <th>fullGivenName</th>\n",
       "      <th>nameSuffix</th>\n",
       "      <th>nameNick</th>\n",
       "      <th>pos</th>\n",
       "      <th>...</th>\n",
       "      <th>birthDate</th>\n",
       "      <th>birthCity</th>\n",
       "      <th>birthState</th>\n",
       "      <th>birthCountry</th>\n",
       "      <th>highSchool</th>\n",
       "      <th>hsCity</th>\n",
       "      <th>hsState</th>\n",
       "      <th>hsCountry</th>\n",
       "      <th>deathDate</th>\n",
       "      <th>race</th>\n",
       "    </tr>\n",
       "  </thead>\n",
       "  <tbody>\n",
       "    <tr>\n",
       "      <th>0</th>\n",
       "      <td>abdelal01</td>\n",
       "      <td>Alaa</td>\n",
       "      <td>Alaa</td>\n",
       "      <td>NaN</td>\n",
       "      <td>Abdelnaby</td>\n",
       "      <td>NaN</td>\n",
       "      <td>NaN</td>\n",
       "      <td>NaN</td>\n",
       "      <td>NaN</td>\n",
       "      <td>F-C</td>\n",
       "      <td>...</td>\n",
       "      <td>1968-06-24</td>\n",
       "      <td>Cairo</td>\n",
       "      <td>NaN</td>\n",
       "      <td>EGY</td>\n",
       "      <td>Bloomfield Senior</td>\n",
       "      <td>Bloomfield</td>\n",
       "      <td>NJ</td>\n",
       "      <td>USA</td>\n",
       "      <td>0000-00-00</td>\n",
       "      <td>B</td>\n",
       "    </tr>\n",
       "    <tr>\n",
       "      <th>1</th>\n",
       "      <td>abdulka01</td>\n",
       "      <td>Kareem</td>\n",
       "      <td>Kareem</td>\n",
       "      <td>NaN</td>\n",
       "      <td>Abdul-Jabbar</td>\n",
       "      <td>NaN</td>\n",
       "      <td>Ferdinand Lewis Alcindor, Jr.</td>\n",
       "      <td>NaN</td>\n",
       "      <td>Lew, Cap</td>\n",
       "      <td>C</td>\n",
       "      <td>...</td>\n",
       "      <td>1947-04-16</td>\n",
       "      <td>New York</td>\n",
       "      <td>NY</td>\n",
       "      <td>USA</td>\n",
       "      <td>Power Memorial</td>\n",
       "      <td>New York</td>\n",
       "      <td>NY</td>\n",
       "      <td>USA</td>\n",
       "      <td>0000-00-00</td>\n",
       "      <td>B</td>\n",
       "    </tr>\n",
       "    <tr>\n",
       "      <th>2</th>\n",
       "      <td>abdulma01</td>\n",
       "      <td>Mahdi</td>\n",
       "      <td>Mahdi</td>\n",
       "      <td>NaN</td>\n",
       "      <td>Abdul-Rahman</td>\n",
       "      <td>NaN</td>\n",
       "      <td>Walter Raphael Hazzard, Jr.</td>\n",
       "      <td>NaN</td>\n",
       "      <td>Walt</td>\n",
       "      <td>G</td>\n",
       "      <td>...</td>\n",
       "      <td>1942-04-15</td>\n",
       "      <td>Wilmington</td>\n",
       "      <td>DE</td>\n",
       "      <td>USA</td>\n",
       "      <td>Overbrook / Moton</td>\n",
       "      <td>Philadelphia / Easton</td>\n",
       "      <td>PA / MD</td>\n",
       "      <td>USA</td>\n",
       "      <td>2011-11-18</td>\n",
       "      <td>B</td>\n",
       "    </tr>\n",
       "    <tr>\n",
       "      <th>3</th>\n",
       "      <td>abdulma02</td>\n",
       "      <td>Mahmoud</td>\n",
       "      <td>Mahmoud</td>\n",
       "      <td>NaN</td>\n",
       "      <td>Abdul-Rauf</td>\n",
       "      <td>NaN</td>\n",
       "      <td>Chris Wayne Jackson</td>\n",
       "      <td>NaN</td>\n",
       "      <td>NaN</td>\n",
       "      <td>G</td>\n",
       "      <td>...</td>\n",
       "      <td>1969-03-09</td>\n",
       "      <td>Gulfport</td>\n",
       "      <td>MS</td>\n",
       "      <td>USA</td>\n",
       "      <td>Gulfport</td>\n",
       "      <td>Gulfport</td>\n",
       "      <td>MS</td>\n",
       "      <td>USA</td>\n",
       "      <td>0000-00-00</td>\n",
       "      <td>B</td>\n",
       "    </tr>\n",
       "    <tr>\n",
       "      <th>4</th>\n",
       "      <td>abdulta01</td>\n",
       "      <td>Tariq</td>\n",
       "      <td>Tariq</td>\n",
       "      <td>NaN</td>\n",
       "      <td>Abdul-Wahad</td>\n",
       "      <td>NaN</td>\n",
       "      <td>Olivier Michael Saint-Jean</td>\n",
       "      <td>NaN</td>\n",
       "      <td>NaN</td>\n",
       "      <td>G-F</td>\n",
       "      <td>...</td>\n",
       "      <td>1974-11-03</td>\n",
       "      <td>Maisons Alfort</td>\n",
       "      <td>NaN</td>\n",
       "      <td>FRA</td>\n",
       "      <td>Lycee Aristide Briand</td>\n",
       "      <td>Evreux</td>\n",
       "      <td>NaN</td>\n",
       "      <td>FRA</td>\n",
       "      <td>0000-00-00</td>\n",
       "      <td>B</td>\n",
       "    </tr>\n",
       "  </tbody>\n",
       "</table>\n",
       "<p>5 rows × 26 columns</p>\n",
       "</div>"
      ],
      "text/plain": [
       "       bioID useFirst firstName middleName      lastName nameGiven  \\\n",
       "0  abdelal01     Alaa      Alaa        NaN     Abdelnaby       NaN   \n",
       "1  abdulka01   Kareem    Kareem        NaN  Abdul-Jabbar       NaN   \n",
       "2  abdulma01    Mahdi     Mahdi        NaN  Abdul-Rahman       NaN   \n",
       "3  abdulma02  Mahmoud   Mahmoud        NaN    Abdul-Rauf       NaN   \n",
       "4  abdulta01    Tariq     Tariq        NaN   Abdul-Wahad       NaN   \n",
       "\n",
       "                   fullGivenName nameSuffix  nameNick  pos  ...   birthDate  \\\n",
       "0                            NaN        NaN       NaN  F-C  ...  1968-06-24   \n",
       "1  Ferdinand Lewis Alcindor, Jr.        NaN  Lew, Cap    C  ...  1947-04-16   \n",
       "2    Walter Raphael Hazzard, Jr.        NaN      Walt    G  ...  1942-04-15   \n",
       "3            Chris Wayne Jackson        NaN       NaN    G  ...  1969-03-09   \n",
       "4     Olivier Michael Saint-Jean        NaN       NaN  G-F  ...  1974-11-03   \n",
       "\n",
       "        birthCity  birthState  birthCountry             highSchool  \\\n",
       "0           Cairo         NaN           EGY      Bloomfield Senior   \n",
       "1        New York          NY           USA         Power Memorial   \n",
       "2      Wilmington          DE           USA      Overbrook / Moton   \n",
       "3        Gulfport          MS           USA               Gulfport   \n",
       "4  Maisons Alfort         NaN           FRA  Lycee Aristide Briand   \n",
       "\n",
       "                  hsCity  hsState hsCountry   deathDate race  \n",
       "0             Bloomfield       NJ       USA  0000-00-00    B  \n",
       "1               New York       NY       USA  0000-00-00    B  \n",
       "2  Philadelphia / Easton  PA / MD       USA  2011-11-18    B  \n",
       "3               Gulfport       MS       USA  0000-00-00    B  \n",
       "4                 Evreux      NaN       FRA  0000-00-00    B  \n",
       "\n",
       "[5 rows x 26 columns]"
      ]
     },
     "execution_count": 32,
     "metadata": {},
     "output_type": "execute_result"
    }
   ],
   "source": [
    "#This is the EDA for the masters Dataset \n",
    "import pandas as pd\n",
    "import numpy as np\n",
    "\n",
    "df = pd.read_csv(r'C:\\Users\\User\\Downloads\\archive (2)\\basketball_master.csv', encoding='ISO-8859-1')\n",
    "df.head()"
   ]
  },
  {
   "cell_type": "code",
   "execution_count": 33,
   "id": "3fc8427a",
   "metadata": {},
   "outputs": [
    {
     "data": {
      "text/html": [
       "<div>\n",
       "<style scoped>\n",
       "    .dataframe tbody tr th:only-of-type {\n",
       "        vertical-align: middle;\n",
       "    }\n",
       "\n",
       "    .dataframe tbody tr th {\n",
       "        vertical-align: top;\n",
       "    }\n",
       "\n",
       "    .dataframe thead th {\n",
       "        text-align: right;\n",
       "    }\n",
       "</style>\n",
       "<table border=\"1\" class=\"dataframe\">\n",
       "  <thead>\n",
       "    <tr style=\"text-align: right;\">\n",
       "      <th></th>\n",
       "      <th>bioID</th>\n",
       "      <th>useFirst</th>\n",
       "      <th>firstName</th>\n",
       "      <th>middleName</th>\n",
       "      <th>lastName</th>\n",
       "      <th>nameGiven</th>\n",
       "      <th>fullGivenName</th>\n",
       "      <th>nameSuffix</th>\n",
       "      <th>nameNick</th>\n",
       "      <th>pos</th>\n",
       "      <th>...</th>\n",
       "      <th>birthDate</th>\n",
       "      <th>birthCity</th>\n",
       "      <th>birthState</th>\n",
       "      <th>birthCountry</th>\n",
       "      <th>highSchool</th>\n",
       "      <th>hsCity</th>\n",
       "      <th>hsState</th>\n",
       "      <th>hsCountry</th>\n",
       "      <th>deathDate</th>\n",
       "      <th>race</th>\n",
       "    </tr>\n",
       "  </thead>\n",
       "  <tbody>\n",
       "    <tr>\n",
       "      <th>count</th>\n",
       "      <td>5061</td>\n",
       "      <td>4230</td>\n",
       "      <td>5037</td>\n",
       "      <td>3245</td>\n",
       "      <td>5061</td>\n",
       "      <td>9</td>\n",
       "      <td>26</td>\n",
       "      <td>323</td>\n",
       "      <td>2707</td>\n",
       "      <td>4879</td>\n",
       "      <td>...</td>\n",
       "      <td>5050</td>\n",
       "      <td>3887</td>\n",
       "      <td>3607</td>\n",
       "      <td>3901</td>\n",
       "      <td>4288</td>\n",
       "      <td>4296</td>\n",
       "      <td>4227</td>\n",
       "      <td>4296</td>\n",
       "      <td>5061</td>\n",
       "      <td>4902</td>\n",
       "    </tr>\n",
       "    <tr>\n",
       "      <th>unique</th>\n",
       "      <td>5061</td>\n",
       "      <td>1222</td>\n",
       "      <td>1269</td>\n",
       "      <td>913</td>\n",
       "      <td>3071</td>\n",
       "      <td>8</td>\n",
       "      <td>26</td>\n",
       "      <td>5</td>\n",
       "      <td>1313</td>\n",
       "      <td>13</td>\n",
       "      <td>...</td>\n",
       "      <td>4141</td>\n",
       "      <td>1459</td>\n",
       "      <td>60</td>\n",
       "      <td>80</td>\n",
       "      <td>2561</td>\n",
       "      <td>1615</td>\n",
       "      <td>187</td>\n",
       "      <td>51</td>\n",
       "      <td>928</td>\n",
       "      <td>4</td>\n",
       "    </tr>\n",
       "    <tr>\n",
       "      <th>top</th>\n",
       "      <td>abdelal01</td>\n",
       "      <td>John</td>\n",
       "      <td>John</td>\n",
       "      <td>J.</td>\n",
       "      <td>Williams</td>\n",
       "      <td>Willie</td>\n",
       "      <td>Ferdinand Lewis Alcindor, Jr.</td>\n",
       "      <td>Jr.</td>\n",
       "      <td>Bob</td>\n",
       "      <td>G</td>\n",
       "      <td>...</td>\n",
       "      <td>0000-00-00</td>\n",
       "      <td>Chicago</td>\n",
       "      <td>CA</td>\n",
       "      <td>USA</td>\n",
       "      <td>Central</td>\n",
       "      <td>Chicago</td>\n",
       "      <td>CA</td>\n",
       "      <td>USA</td>\n",
       "      <td>0000-00-00</td>\n",
       "      <td>B</td>\n",
       "    </tr>\n",
       "    <tr>\n",
       "      <th>freq</th>\n",
       "      <td>1</td>\n",
       "      <td>98</td>\n",
       "      <td>197</td>\n",
       "      <td>96</td>\n",
       "      <td>72</td>\n",
       "      <td>2</td>\n",
       "      <td>1</td>\n",
       "      <td>257</td>\n",
       "      <td>72</td>\n",
       "      <td>1625</td>\n",
       "      <td>...</td>\n",
       "      <td>542</td>\n",
       "      <td>139</td>\n",
       "      <td>354</td>\n",
       "      <td>3584</td>\n",
       "      <td>53</td>\n",
       "      <td>150</td>\n",
       "      <td>428</td>\n",
       "      <td>4201</td>\n",
       "      <td>4102</td>\n",
       "      <td>2460</td>\n",
       "    </tr>\n",
       "  </tbody>\n",
       "</table>\n",
       "<p>4 rows × 22 columns</p>\n",
       "</div>"
      ],
      "text/plain": [
       "            bioID useFirst firstName middleName  lastName nameGiven  \\\n",
       "count        5061     4230      5037       3245      5061         9   \n",
       "unique       5061     1222      1269        913      3071         8   \n",
       "top     abdelal01     John      John         J.  Williams    Willie   \n",
       "freq            1       98       197         96        72         2   \n",
       "\n",
       "                        fullGivenName nameSuffix nameNick   pos  ...  \\\n",
       "count                              26        323     2707  4879  ...   \n",
       "unique                             26          5     1313    13  ...   \n",
       "top     Ferdinand Lewis Alcindor, Jr.        Jr.      Bob     G  ...   \n",
       "freq                                1        257       72  1625  ...   \n",
       "\n",
       "         birthDate birthCity birthState birthCountry highSchool   hsCity  \\\n",
       "count         5050      3887       3607         3901       4288     4296   \n",
       "unique        4141      1459         60           80       2561     1615   \n",
       "top     0000-00-00   Chicago         CA          USA    Central  Chicago   \n",
       "freq           542       139        354         3584         53      150   \n",
       "\n",
       "       hsState hsCountry   deathDate  race  \n",
       "count     4227      4296        5061  4902  \n",
       "unique     187        51         928     4  \n",
       "top         CA       USA  0000-00-00     B  \n",
       "freq       428      4201        4102  2460  \n",
       "\n",
       "[4 rows x 22 columns]"
      ]
     },
     "execution_count": 33,
     "metadata": {},
     "output_type": "execute_result"
    }
   ],
   "source": [
    "df.describe(include=['object'])"
   ]
  },
  {
   "cell_type": "code",
   "execution_count": 38,
   "id": "e767634f",
   "metadata": {},
   "outputs": [
    {
     "name": "stdout",
     "output_type": "stream",
     "text": [
      "<class 'pandas.core.frame.DataFrame'>\n",
      "RangeIndex: 5061 entries, 0 to 5060\n",
      "Data columns (total 26 columns):\n",
      " #   Column         Non-Null Count  Dtype  \n",
      "---  ------         --------------  -----  \n",
      " 0   bioID          5061 non-null   object \n",
      " 1   useFirst       4230 non-null   object \n",
      " 2   firstName      5037 non-null   object \n",
      " 3   middleName     3245 non-null   object \n",
      " 4   lastName       5061 non-null   object \n",
      " 5   nameGiven      9 non-null      object \n",
      " 6   fullGivenName  26 non-null     object \n",
      " 7   nameSuffix     323 non-null    object \n",
      " 8   nameNick       2707 non-null   object \n",
      " 9   pos            4879 non-null   object \n",
      " 10  firstseason    5046 non-null   float64\n",
      " 11  lastseason     5046 non-null   float64\n",
      " 12  height         5048 non-null   float64\n",
      " 13  weight         5047 non-null   float64\n",
      " 14  college        4883 non-null   object \n",
      " 15  collegeOther   853 non-null    object \n",
      " 16  birthDate      5050 non-null   object \n",
      " 17  birthCity      3887 non-null   object \n",
      " 18  birthState     3607 non-null   object \n",
      " 19  birthCountry   3901 non-null   object \n",
      " 20  highSchool     4288 non-null   object \n",
      " 21  hsCity         4296 non-null   object \n",
      " 22  hsState        4227 non-null   object \n",
      " 23  hsCountry      4296 non-null   object \n",
      " 24  deathDate      5061 non-null   object \n",
      " 25  race           4902 non-null   object \n",
      "dtypes: float64(4), object(22)\n",
      "memory usage: 1.0+ MB\n"
     ]
    }
   ],
   "source": [
    "df.info()"
   ]
  },
  {
   "cell_type": "code",
   "execution_count": 34,
   "id": "317ccdc7",
   "metadata": {},
   "outputs": [
    {
     "data": {
      "text/plain": [
       "bioID               0\n",
       "useFirst          831\n",
       "firstName          24\n",
       "middleName       1816\n",
       "lastName            0\n",
       "nameGiven        5052\n",
       "fullGivenName    5035\n",
       "nameSuffix       4738\n",
       "nameNick         2354\n",
       "pos               182\n",
       "firstseason        15\n",
       "lastseason         15\n",
       "height             13\n",
       "weight             14\n",
       "college           178\n",
       "collegeOther     4208\n",
       "birthDate          11\n",
       "birthCity        1174\n",
       "birthState       1454\n",
       "birthCountry     1160\n",
       "highSchool        773\n",
       "hsCity            765\n",
       "hsState           834\n",
       "hsCountry         765\n",
       "deathDate           0\n",
       "race              159\n",
       "dtype: int64"
      ]
     },
     "execution_count": 34,
     "metadata": {},
     "output_type": "execute_result"
    }
   ],
   "source": [
    "df.isnull().sum()"
   ]
  },
  {
   "cell_type": "code",
   "execution_count": 35,
   "id": "46cf93d2",
   "metadata": {},
   "outputs": [
    {
     "data": {
      "text/plain": [
       "bioID             object\n",
       "useFirst          object\n",
       "firstName         object\n",
       "middleName        object\n",
       "lastName          object\n",
       "nameGiven         object\n",
       "fullGivenName     object\n",
       "nameSuffix        object\n",
       "nameNick          object\n",
       "pos               object\n",
       "firstseason      float64\n",
       "lastseason       float64\n",
       "height           float64\n",
       "weight           float64\n",
       "college           object\n",
       "collegeOther      object\n",
       "birthDate         object\n",
       "birthCity         object\n",
       "birthState        object\n",
       "birthCountry      object\n",
       "highSchool        object\n",
       "hsCity            object\n",
       "hsState           object\n",
       "hsCountry         object\n",
       "deathDate         object\n",
       "race              object\n",
       "dtype: object"
      ]
     },
     "execution_count": 35,
     "metadata": {},
     "output_type": "execute_result"
    }
   ],
   "source": [
    "df.dtypes"
   ]
  },
  {
   "cell_type": "code",
   "execution_count": 5,
   "id": "d134dcd9",
   "metadata": {},
   "outputs": [],
   "source": [
    "import matplotlib.pyplot as plt\n",
    "import seaborn as sns\n",
    "%matplotlib inline "
   ]
  },
  {
   "cell_type": "code",
   "execution_count": 6,
   "id": "d9f8a558",
   "metadata": {},
   "outputs": [
    {
     "data": {
      "text/html": [
       "<div>\n",
       "<style scoped>\n",
       "    .dataframe tbody tr th:only-of-type {\n",
       "        vertical-align: middle;\n",
       "    }\n",
       "\n",
       "    .dataframe tbody tr th {\n",
       "        vertical-align: top;\n",
       "    }\n",
       "\n",
       "    .dataframe thead th {\n",
       "        text-align: right;\n",
       "    }\n",
       "</style>\n",
       "<table border=\"1\" class=\"dataframe\">\n",
       "  <thead>\n",
       "    <tr style=\"text-align: right;\">\n",
       "      <th></th>\n",
       "      <th>firstseason</th>\n",
       "      <th>lastseason</th>\n",
       "      <th>height</th>\n",
       "      <th>weight</th>\n",
       "    </tr>\n",
       "  </thead>\n",
       "  <tbody>\n",
       "    <tr>\n",
       "      <th>firstseason</th>\n",
       "      <td>1.000000</td>\n",
       "      <td>1.000000</td>\n",
       "      <td>-0.001171</td>\n",
       "      <td>-0.008434</td>\n",
       "    </tr>\n",
       "    <tr>\n",
       "      <th>lastseason</th>\n",
       "      <td>1.000000</td>\n",
       "      <td>1.000000</td>\n",
       "      <td>-0.001171</td>\n",
       "      <td>-0.008434</td>\n",
       "    </tr>\n",
       "    <tr>\n",
       "      <th>height</th>\n",
       "      <td>-0.001171</td>\n",
       "      <td>-0.001171</td>\n",
       "      <td>1.000000</td>\n",
       "      <td>0.870231</td>\n",
       "    </tr>\n",
       "    <tr>\n",
       "      <th>weight</th>\n",
       "      <td>-0.008434</td>\n",
       "      <td>-0.008434</td>\n",
       "      <td>0.870231</td>\n",
       "      <td>1.000000</td>\n",
       "    </tr>\n",
       "  </tbody>\n",
       "</table>\n",
       "</div>"
      ],
      "text/plain": [
       "             firstseason  lastseason    height    weight\n",
       "firstseason     1.000000    1.000000 -0.001171 -0.008434\n",
       "lastseason      1.000000    1.000000 -0.001171 -0.008434\n",
       "height         -0.001171   -0.001171  1.000000  0.870231\n",
       "weight         -0.008434   -0.008434  0.870231  1.000000"
      ]
     },
     "execution_count": 6,
     "metadata": {},
     "output_type": "execute_result"
    }
   ],
   "source": [
    "df.corr()"
   ]
  },
  {
   "cell_type": "code",
   "execution_count": 36,
   "id": "9f42d4b3",
   "metadata": {},
   "outputs": [
    {
     "data": {
      "text/plain": [
       "array(['USA', 'FRA', 'NGR', nan, 'BRA', 'YUG', 'LAT', 'AUS', 'BAH',\n",
       "       'USA/CAN', 'HOL', 'PAN', 'BUL', 'CUB', 'VEN', 'LTU', 'JAM/USA',\n",
       "       'CAN/USA', 'DMC', 'HAI', 'RUS', 'CRO', 'CAN', 'NZL', 'SRB', 'SLV',\n",
       "       'FIN', 'ZAI', 'EST', 'USA / SEN', 'GER', 'ARG', 'TUR', 'ENG',\n",
       "       'TCH', 'UKR', 'JAM', 'GRE', 'KOR', 'SEN', 'JPN', 'CAN /USA', 'POL',\n",
       "       'GEO', 'YUG/USA', 'ISV', 'DOM/USA', 'USA / PUR', 'GAB', 'ESP',\n",
       "       'PUR', 'USa'], dtype=object)"
      ]
     },
     "execution_count": 36,
     "metadata": {},
     "output_type": "execute_result"
    }
   ],
   "source": [
    "df['hsCountry'].unique()"
   ]
  },
  {
   "cell_type": "code",
   "execution_count": 37,
   "id": "1b5efc35",
   "metadata": {},
   "outputs": [
    {
     "data": {
      "text/plain": [
       "52"
      ]
     },
     "execution_count": 37,
     "metadata": {},
     "output_type": "execute_result"
    }
   ],
   "source": [
    "len(df['hsCountry'].unique())"
   ]
  },
  {
   "cell_type": "code",
   "execution_count": 40,
   "id": "9171e43d",
   "metadata": {},
   "outputs": [
    {
     "data": {
      "text/plain": [
       "2562"
      ]
     },
     "execution_count": 40,
     "metadata": {},
     "output_type": "execute_result"
    }
   ],
   "source": [
    "df['highSchool'].unique()\n",
    "len(df['highSchool'].unique())"
   ]
  },
  {
   "cell_type": "code",
   "execution_count": 19,
   "id": "3cb55ee5",
   "metadata": {},
   "outputs": [
    {
     "name": "stdout",
     "output_type": "stream",
     "text": [
      "[1 1 1 ... 4 4 4]\n"
     ]
    }
   ],
   "source": [
    "#Turning categorical varibale to dummy variable\n",
    "from sklearn.preprocessing import LabelEncoder\n",
    "le = LabelEncoder()\n",
    "gender_race = le.fit_transform(df['race'])\n",
    "print(gender_race)\n",
    " "
   ]
  },
  {
   "cell_type": "code",
   "execution_count": 22,
   "id": "ec492e47",
   "metadata": {},
   "outputs": [],
   "source": [
    "df['encoded_race'] = gender_race\n",
    "df.drop(\"encoded_gender\", axis=1, inplace=True) "
   ]
  },
  {
   "cell_type": "code",
   "execution_count": 23,
   "id": "92811d30",
   "metadata": {},
   "outputs": [
    {
     "data": {
      "text/plain": [
       "<AxesSubplot:xlabel='firstName', ylabel='encoded_race'>"
      ]
     },
     "execution_count": 23,
     "metadata": {},
     "output_type": "execute_result"
    },
    {
     "data": {
      "image/png": "[encoded data removed]",
      "text/plain": [
       "<Figure size 432x288 with 1 Axes>"
      ]
     },
     "metadata": {
      "needs_background": "light"
     },
     "output_type": "display_data"
    }
   ],
   "source": [
    "sns.boxplot(x=\"firstName\", y=\"encoded_race\", data=df)"
   ]
  },
  {
   "cell_type": "code",
   "execution_count": 41,
   "id": "f38b705b",
   "metadata": {},
   "outputs": [
    {
     "data": {
      "image/png": "[encoded data removed]",
      "text/plain": [
       "<Figure size 432x288 with 2 Axes>"
      ]
     },
     "metadata": {
      "needs_background": "light"
     },
     "output_type": "display_data"
    }
   ],
   "source": [
    "sns.heatmap(df.corr(),annot=True)\n",
    "plt.show()"
   ]
  },
  {
   "cell_type": "code",
   "execution_count": 24,
   "id": "efa0fc80",
   "metadata": {},
   "outputs": [],
   "source": [
    "#they are very few numeric data so exploration is kind off limited \n",
    "#so many missing values for textdf1.null"
   ]
  },
  {
   "cell_type": "code",
   "execution_count": 27,
   "id": "bb6e1a92",
   "metadata": {},
   "outputs": [
    {
     "data": {
      "text/html": [
       "<div>\n",
       "<style scoped>\n",
       "    .dataframe tbody tr th:only-of-type {\n",
       "        vertical-align: middle;\n",
       "    }\n",
       "\n",
       "    .dataframe tbody tr th {\n",
       "        vertical-align: top;\n",
       "    }\n",
       "\n",
       "    .dataframe thead th {\n",
       "        text-align: right;\n",
       "    }\n",
       "</style>\n",
       "<table border=\"1\" class=\"dataframe\">\n",
       "  <thead>\n",
       "    <tr style=\"text-align: right;\">\n",
       "      <th></th>\n",
       "      <th>year</th>\n",
       "      <th>hofID</th>\n",
       "      <th>name</th>\n",
       "      <th>category</th>\n",
       "    </tr>\n",
       "  </thead>\n",
       "  <tbody>\n",
       "    <tr>\n",
       "      <th>0</th>\n",
       "      <td>1959</td>\n",
       "      <td>NaN</td>\n",
       "      <td>Amos Alonzo Stagg</td>\n",
       "      <td>Contributor</td>\n",
       "    </tr>\n",
       "    <tr>\n",
       "      <th>1</th>\n",
       "      <td>1959</td>\n",
       "      <td>NaN</td>\n",
       "      <td>Charles Hyatt</td>\n",
       "      <td>Player</td>\n",
       "    </tr>\n",
       "    <tr>\n",
       "      <th>2</th>\n",
       "      <td>1959</td>\n",
       "      <td>NaN</td>\n",
       "      <td>Edward Hickox</td>\n",
       "      <td>Contributor</td>\n",
       "    </tr>\n",
       "    <tr>\n",
       "      <th>3</th>\n",
       "      <td>1959</td>\n",
       "      <td>mikange01</td>\n",
       "      <td>George Mikan</td>\n",
       "      <td>Player</td>\n",
       "    </tr>\n",
       "    <tr>\n",
       "      <th>4</th>\n",
       "      <td>1959</td>\n",
       "      <td>NaN</td>\n",
       "      <td>Hank Luisetti</td>\n",
       "      <td>Player</td>\n",
       "    </tr>\n",
       "    <tr>\n",
       "      <th>...</th>\n",
       "      <td>...</td>\n",
       "      <td>...</td>\n",
       "      <td>...</td>\n",
       "      <td>...</td>\n",
       "    </tr>\n",
       "    <tr>\n",
       "      <th>323</th>\n",
       "      <td>2012</td>\n",
       "      <td>NaN</td>\n",
       "      <td>Lidia Alexeeva</td>\n",
       "      <td>Coach</td>\n",
       "    </tr>\n",
       "    <tr>\n",
       "      <th>324</th>\n",
       "      <td>2012</td>\n",
       "      <td>danieme01</td>\n",
       "      <td>Mel Daniels</td>\n",
       "      <td>Player</td>\n",
       "    </tr>\n",
       "    <tr>\n",
       "      <th>325</th>\n",
       "      <td>2012</td>\n",
       "      <td>NaN</td>\n",
       "      <td>Phil Knight</td>\n",
       "      <td>Contributor</td>\n",
       "    </tr>\n",
       "    <tr>\n",
       "      <th>326</th>\n",
       "      <td>2012</td>\n",
       "      <td>sampsra01</td>\n",
       "      <td>Ralph Sampson</td>\n",
       "      <td>Player</td>\n",
       "    </tr>\n",
       "    <tr>\n",
       "      <th>327</th>\n",
       "      <td>2012</td>\n",
       "      <td>millere01</td>\n",
       "      <td>Reggie Miller</td>\n",
       "      <td>Player</td>\n",
       "    </tr>\n",
       "  </tbody>\n",
       "</table>\n",
       "<p>328 rows × 4 columns</p>\n",
       "</div>"
      ],
      "text/plain": [
       "     year      hofID               name     category\n",
       "0    1959        NaN  Amos Alonzo Stagg  Contributor\n",
       "1    1959        NaN      Charles Hyatt       Player\n",
       "2    1959        NaN      Edward Hickox  Contributor\n",
       "3    1959  mikange01       George Mikan       Player\n",
       "4    1959        NaN      Hank Luisetti       Player\n",
       "..    ...        ...                ...          ...\n",
       "323  2012        NaN     Lidia Alexeeva        Coach\n",
       "324  2012  danieme01        Mel Daniels       Player\n",
       "325  2012        NaN        Phil Knight  Contributor\n",
       "326  2012  sampsra01      Ralph Sampson       Player\n",
       "327  2012  millere01      Reggie Miller       Player\n",
       "\n",
       "[328 rows x 4 columns]"
      ]
     },
     "execution_count": 27,
     "metadata": {},
     "output_type": "execute_result"
    }
   ],
   "source": [
    "#readng te hal of fame data\n",
    "\n",
    "df1 = pd.read_csv(r'C:\\Users\\User\\Downloads\\archive (2)\\basketball_hof.csv', encoding='ISO-8859-1')\n",
    "df1\n"
   ]
  },
  {
   "cell_type": "code",
   "execution_count": 29,
   "id": "48623a12",
   "metadata": {},
   "outputs": [
    {
     "data": {
      "text/html": [
       "<div>\n",
       "<style scoped>\n",
       "    .dataframe tbody tr th:only-of-type {\n",
       "        vertical-align: middle;\n",
       "    }\n",
       "\n",
       "    .dataframe tbody tr th {\n",
       "        vertical-align: top;\n",
       "    }\n",
       "\n",
       "    .dataframe thead th {\n",
       "        text-align: right;\n",
       "    }\n",
       "</style>\n",
       "<table border=\"1\" class=\"dataframe\">\n",
       "  <thead>\n",
       "    <tr style=\"text-align: right;\">\n",
       "      <th></th>\n",
       "      <th>hofID</th>\n",
       "      <th>name</th>\n",
       "      <th>category</th>\n",
       "    </tr>\n",
       "  </thead>\n",
       "  <tbody>\n",
       "    <tr>\n",
       "      <th>count</th>\n",
       "      <td>140</td>\n",
       "      <td>328</td>\n",
       "      <td>328</td>\n",
       "    </tr>\n",
       "    <tr>\n",
       "      <th>unique</th>\n",
       "      <td>136</td>\n",
       "      <td>324</td>\n",
       "      <td>5</td>\n",
       "    </tr>\n",
       "    <tr>\n",
       "      <th>top</th>\n",
       "      <td>woodejo01</td>\n",
       "      <td>John Wooden</td>\n",
       "      <td>Player</td>\n",
       "    </tr>\n",
       "    <tr>\n",
       "      <th>freq</th>\n",
       "      <td>2</td>\n",
       "      <td>2</td>\n",
       "      <td>157</td>\n",
       "    </tr>\n",
       "  </tbody>\n",
       "</table>\n",
       "</div>"
      ],
      "text/plain": [
       "            hofID         name category\n",
       "count         140          328      328\n",
       "unique        136          324        5\n",
       "top     woodejo01  John Wooden   Player\n",
       "freq            2            2      157"
      ]
     },
     "execution_count": 29,
     "metadata": {},
     "output_type": "execute_result"
    }
   ],
   "source": [
    "df.describe(include=['object'])"
   ]
  },
  {
   "cell_type": "code",
   "execution_count": 30,
   "id": "5256aa81",
   "metadata": {},
   "outputs": [
    {
     "data": {
      "text/plain": [
       "year          0\n",
       "hofID       188\n",
       "name          0\n",
       "category      0\n",
       "dtype: int64"
      ]
     },
     "execution_count": 30,
     "metadata": {},
     "output_type": "execute_result"
    }
   ],
   "source": [
    "df1.isnull().sum()"
   ]
  },
  {
   "cell_type": "code",
   "execution_count": null,
   "id": "c89c250b",
   "metadata": {},
   "outputs": [],
   "source": []
  }
 ],
 "metadata": {
  "kernelspec": {
   "display_name": "Python 3",
   "language": "python",
   "name": "python3"
  },
  "language_info": {
   "codemirror_mode": {
    "name": "ipython",
    "version": 3
   },
   "file_extension": ".py",
   "mimetype": "text/x-python",
   "name": "python",
   "nbconvert_exporter": "python",
   "pygments_lexer": "ipython3",
   "version": "3.9.12"
  }
 },
 "nbformat": 4,
 "nbformat_minor": 5
}
